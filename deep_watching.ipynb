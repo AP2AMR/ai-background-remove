{
 "cells": [
  {
   "cell_type": "markdown",
   "metadata": {},
   "source": [
    "## Deep Watching\n"
   ]
  },
  {
   "cell_type": "code",
   "execution_count": null,
   "metadata": {},
   "outputs": [],
   "source": [
    "from collections import defaultdict\n",
    "import pickle\n",
    "import numpy as np\n",
    "import pandas as pd\n",
    "import seaborn as sns\n",
    "import cv2\n",
    "%matplotlib inline\n",
    "import matplotlib\n",
    "import matplotlib.pyplot as plt\n",
    "plt.style.use('ggplot')\n",
    "from sklearn.manifold import Isomap"
   ]
  },
  {
   "cell_type": "code",
   "execution_count": null,
   "metadata": {},
   "outputs": [],
   "source": [
    "# input file\n",
    "FILE = \"results.pkl\"\n",
    "with open(FILE, 'rb') as fi:\n",
    "    results = pickle.load(fi)\n",
    "    \n",
    "# available classes\n",
    "classes = results['classes']"
   ]
  },
  {
   "cell_type": "code",
   "execution_count": null,
   "metadata": {
    "scrolled": false
   },
   "outputs": [],
   "source": [
    "# load class info from pickle\n",
    "found_classes = []\n",
    "scores = []\n",
    "areas = []\n",
    "centers_x = []\n",
    "centers_y = []\n",
    "boxes = []\n",
    "paths = []\n",
    "for path in results['instances']:\n",
    "    img_size = results['instances'][path].image_size\n",
    "    found_classes.extend([classes[x] for x in results['instances'][path].pred_classes.numpy()])\n",
    "    scores.extend(results['instances'][path].scores.numpy())\n",
    "    areas.extend([x / (img_size[0] * img_size[1]) for x in results['instances'][path].pred_boxes.area().numpy()])\n",
    "    centers_x.extend([x[0] / img_size[1] for x in results['instances'][path].pred_boxes.get_centers().numpy()])\n",
    "    centers_y.extend([x[1] / img_size[0] for x in results['instances'][path].pred_boxes.get_centers().numpy()])\n",
    "    boxes.extend(results['instances'][path].pred_boxes.tensor.numpy())\n",
    "    paths.extend([path] * len(results['instances'][path].pred_boxes))\n",
    "data = pd.DataFrame(list(zip(paths, found_classes, scores, areas, centers_x, centers_y, boxes)), columns = ['path', 'found_class', 'score', 'area', 'center_x', 'center_y', 'box']) \n",
    "data"
   ]
  },
  {
   "cell_type": "code",
   "execution_count": null,
   "metadata": {},
   "outputs": [],
   "source": [
    "found_classes = data.groupby('found_class').agg({'box':'size','score':'mean', 'area':'mean', 'center_x':'mean', 'center_y':'mean'}).rename(columns={'box':'count'}).reset_index().sort_values(by=['count'], ascending=False)\n",
    "found_classes"
   ]
  },
  {
   "cell_type": "code",
   "execution_count": null,
   "metadata": {},
   "outputs": [],
   "source": [
    "classes_per_image = data.groupby(['path', 'found_class'])['box'].count().unstack().fillna(0)\n",
    "classes_per_image"
   ]
  },
  {
   "cell_type": "markdown",
   "metadata": {},
   "source": [
    "# Corpus Map using Class Counts"
   ]
  },
  {
   "cell_type": "code",
   "execution_count": null,
   "metadata": {
    "scrolled": false
   },
   "outputs": [],
   "source": [
    "matrix = classes_per_image.to_numpy()\n",
    "\n",
    "# create isomap\n",
    "imap = Isomap()\n",
    "corpus_map = imap.fit_transform(matrix)\n",
    "\n",
    "# plot corpus using isomap\n",
    "label_scale=0.1\n",
    "fig = plt.figure(figsize=(18, 12))\n",
    "ax1 = fig.add_subplot(111)\n",
    "for counter in range(len(corpus_map)):\n",
    "    scatter = ax1.scatter(corpus_map[counter][0], corpus_map[counter][1], marker='o', s=600)\n",
    "    plt.annotate(classes_per_image.index.values[counter], xy=(corpus_map[counter][0]+label_scale, corpus_map[counter][1]+label_scale))\n",
    "plt.show()"
   ]
  },
  {
   "cell_type": "markdown",
   "metadata": {},
   "source": [
    "# Symbol cooccurrences"
   ]
  },
  {
   "cell_type": "code",
   "execution_count": null,
   "metadata": {
    "scrolled": false
   },
   "outputs": [],
   "source": [
    "import matplotlib.colors as clrs\n",
    "c = classes_per_image.columns.values\n",
    "cooc = np.zeros(shape=(len(c), len(c)))\n",
    "for row in matrix:\n",
    "    for index_a, a in enumerate(row):\n",
    "        for index_b, b in enumerate(row):\n",
    "            if a == b and a > 0:\n",
    "                cooc[index_a][index_b] += a-1\n",
    "            if a != b and a > 0 and b > 0:\n",
    "                cooc[index_a][index_b] = a\n",
    "                cooc[index_b][index_a] = b\n",
    "                   \n",
    "fig, ax = plt.subplots(figsize=(18,10))\n",
    "ax.grid(False)\n",
    "plt.imshow(cooc, norm=clrs.LogNorm(vmin=0.1, vmax=cooc.max()),)\n",
    "plt.colorbar()\n",
    "plt.xticks(range(len(c)), c, rotation=90)\n",
    "plt.yticks(range(len(c)), c)\n",
    "plt.show()"
   ]
  }
 ],
 "metadata": {
  "kernelspec": {
   "display_name": "detectron2",
   "language": "python",
   "name": "detectron2"
  },
  "language_info": {
   "codemirror_mode": {
    "name": "ipython",
    "version": 3
   },
   "file_extension": ".py",
   "mimetype": "text/x-python",
   "name": "python",
   "nbconvert_exporter": "python",
   "pygments_lexer": "ipython3",
   "version": "3.7.6"
  }
 },
 "nbformat": 4,
 "nbformat_minor": 2
}
