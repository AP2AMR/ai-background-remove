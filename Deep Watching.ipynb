{
 "cells": [
  {
   "cell_type": "markdown",
   "metadata": {},
   "source": [
    "## Deep Watching\n"
   ]
  },
  {
   "cell_type": "code",
   "execution_count": null,
   "metadata": {},
   "outputs": [],
   "source": [
    "from collections import defaultdict\n",
    "import json\n",
    "import numpy as np\n",
    "import pandas as pd\n",
    "import seaborn as sns"
   ]
  },
  {
   "cell_type": "code",
   "execution_count": null,
   "metadata": {},
   "outputs": [],
   "source": [
    "%matplotlib inline\n",
    "import matplotlib\n",
    "import matplotlib.pyplot as plt\n",
    "plt.style.use('ggplot')"
   ]
  },
  {
   "cell_type": "code",
   "execution_count": null,
   "metadata": {},
   "outputs": [],
   "source": [
    "# SET THE FILE HERE\n",
    "FILE = \"out-bandera_test_best.json\""
   ]
  },
  {
   "cell_type": "code",
   "execution_count": null,
   "metadata": {},
   "outputs": [],
   "source": [
    "with open(FILE, 'r') as fi:\n",
    "    data = json.load(fi)"
   ]
  },
  {
   "cell_type": "code",
   "execution_count": null,
   "metadata": {},
   "outputs": [],
   "source": [
    "# available classes\n",
    "\n",
    "CLASSES = [\n",
    "    \"georgsband\", \n",
    "    \"hakenkreuz\",\n",
    "    \"hammer&sichel\",\n",
    "    \"adler_wappen\",\n",
    "    \"ukraine\",\n",
    "    \"flagge_ukr\",\n",
    "    \"falanga\",\n",
    "    \"flagge_upa\",\n",
    "    \"oun\",\n",
    "    \"swoboda\",\n",
    "    \"ss_rune\",\n",
    "    \"Wolfsangel\"\n",
    "]\n",
    "\n",
    "CLASSES_EN = [\n",
    "    \"st. george\", \n",
    "    \"swastika\",\n",
    "    \"hammer&sickle\",\n",
    "    \"eagle\",\n",
    "    \"ukraine\",\n",
    "    \"flag_ukr\",\n",
    "    \"falanga\",\n",
    "    \"flag_upa\",\n",
    "    \"oun\",\n",
    "    \"swoboda\",\n",
    "    \"ss\",\n",
    "    \"wolfsangel\"\n",
    "]"
   ]
  },
  {
   "cell_type": "markdown",
   "metadata": {},
   "source": [
    "# Absolute Count of found Labels"
   ]
  },
  {
   "cell_type": "code",
   "execution_count": null,
   "metadata": {},
   "outputs": [],
   "source": [
    "absolute_counts = pd.DataFrame(columns=[*CLASSES])\n",
    "\n",
    "for video_id, frames in data.items():\n",
    "    counts = defaultdict(int)\n",
    "    for frame in frames:\n",
    "        for obj in frame:\n",
    "            if obj['label'] in CLASSES:\n",
    "                 counts[obj['label']] += 1\n",
    "    new_row_data = {\n",
    "        label: count for label, count in counts.items()\n",
    "    }\n",
    "    \n",
    "    new_row = pd.Series(data=new_row_data, name=video_id)\n",
    "    \n",
    "    absolute_counts = absolute_counts.append(new_row)\n",
    "\n",
    "absolute_counts = absolute_counts.fillna(value=0)\n",
    "# rename symbols\n",
    "absolute_counts.columns=CLASSES_EN\n",
    "#absolute_counts.mean(axis=0).plot.bar()\n",
    "absolute_counts.sort_values(by=['ss'], ascending=False)"
   ]
  },
  {
   "cell_type": "code",
   "execution_count": null,
   "metadata": {
    "scrolled": true
   },
   "outputs": [],
   "source": [
    "for video_id, row in absolute_counts.iterrows():\n",
    "    fig, ax = plt.subplots(figsize=(12, 8))\n",
    "    values = [(label, count) for label, count in row.items()]\n",
    "    \n",
    "    x, y = zip(*values)\n",
    "    \n",
    "    x_vals = np.arange(len(x))\n",
    "    \n",
    "    ax.bar(\n",
    "        x = x_vals,\n",
    "        height=y,\n",
    "        width=0.5,\n",
    "    )\n",
    "    \n",
    "    ax.set_xlabel(f\"Class Name\")\n",
    "    ax.set_ylabel(f\"Absolute Count\")\n",
    "    ax.set_title(f\"{video_id}\")\n",
    "    \n",
    "    ax.set_xticks(x_vals)\n",
    "    ax.set_xticklabels(x, rotation=15, ha='right')\n",
    "    \n",
    "    ax.set_yscale('linear')\n",
    "    \n",
    "    plt.show()\n",
    "    plt.close()"
   ]
  },
  {
   "cell_type": "markdown",
   "metadata": {},
   "source": [
    "# Mean Percentage of Visible Labels"
   ]
  },
  {
   "cell_type": "code",
   "execution_count": null,
   "metadata": {
    "scrolled": false
   },
   "outputs": [],
   "source": [
    "percentages = pd.DataFrame(columns=[*CLASSES])\n",
    "\n",
    "for video_id, frames in data.items():\n",
    "    percs = defaultdict(list)\n",
    "    for frame in frames:\n",
    "        for obj in frame:\n",
    "            if obj['label'] in CLASSES:\n",
    "                percs[obj['label']].append(obj['percentage'])\n",
    "    new_row_data = {\n",
    "        label: np.mean(perc) for label, perc in percs.items()\n",
    "    }\n",
    "    \n",
    "    new_row = pd.Series(data=new_row_data, name=video_id)\n",
    "\n",
    "    percentages = percentages.append(new_row)\n",
    "\n",
    "percentages = percentages.fillna(value=0.0)\n",
    "# rename symbols\n",
    "percentages.columns=CLASSES_EN\n",
    "#bar plot\n",
    "\n",
    "# make sure colors don't repeat\n",
    "colors = [plt.cm.tab20(i) for i in np.linspace(0, 1, len(CLASSES))]\n",
    "percentages.mean(axis=0).plot.bar(figsize=(14,10),color=colors)\n",
    "percentages.sort_values(by='st. george', ascending=False)"
   ]
  },
  {
   "cell_type": "code",
   "execution_count": null,
   "metadata": {
    "scrolled": true
   },
   "outputs": [],
   "source": [
    "for video_id, row in percentages.iterrows():\n",
    "    fig, ax = plt.subplots(figsize=(12, 8))\n",
    "    values = [(label, mean_perc) for label, mean_perc in row.items()]\n",
    "    \n",
    "    x, y = zip(*values)\n",
    "    \n",
    "    x_vals = np.arange(len(x))\n",
    "    \n",
    "    ax.bar(\n",
    "        x = x_vals,\n",
    "        height=y,\n",
    "        width=0.5,\n",
    "    )\n",
    "    \n",
    "    ax.set_xlabel(f\"Class Name\")\n",
    "    ax.set_ylabel(f\"Mean visibile percentage\")\n",
    "    ax.set_title(f\"{video_id}\")\n",
    "    \n",
    "    ax.set_xticks(x_vals)\n",
    "    ax.set_xticklabels(x, rotation=15, ha='right')\n",
    "    \n",
    "    plt.show()\n",
    "    plt.close()"
   ]
  },
  {
   "cell_type": "markdown",
   "metadata": {},
   "source": [
    "# Found labels per frame"
   ]
  },
  {
   "cell_type": "code",
   "execution_count": null,
   "metadata": {},
   "outputs": [],
   "source": [
    "from matplotlib.ticker import MaxNLocator"
   ]
  },
  {
   "cell_type": "code",
   "execution_count": null,
   "metadata": {
    "scrolled": true
   },
   "outputs": [],
   "source": [
    "for video_id, frames in data.items():\n",
    "    per_label = defaultdict(list)\n",
    "    for frame_count, frame in enumerate(frames, start=1):\n",
    "        for obj in frame:\n",
    "            if obj['label'] in CLASSES:\n",
    "                per_label[obj['label']].append((frame_count, obj['percentage']))\n",
    "    \n",
    "    fig, ax = plt.subplots(figsize=(14, 10))\n",
    "    \n",
    "    # make sure colors don't repeat\n",
    "    ax.set_prop_cycle('color',plt.cm.tab20(np.linspace(0, 1, len(CLASSES))))\n",
    "\n",
    "    x_vals = np.arange(len(frames))\n",
    "\n",
    "    for label, frame in per_label.items():\n",
    "        x, y = zip(*frame)\n",
    "        ax.plot(x, y, 'o', label=label)\n",
    "\n",
    "    ax.set_xlabel(f\"Frame Number\")\n",
    "    ax.set_ylabel(f\"Percentage within frame\")\n",
    "    ax.set_title(f\"{video_id}\")\n",
    "    ax.legend()\n",
    "\n",
    "    #ax.get_xaxis().set_major_locator(MaxNLocator(integer=True))\n",
    "\n",
    "    #ax.set_xticks(x_vals)\n",
    "    plt.ylim(0, 1)\n",
    "\n",
    "    plt.show()\n",
    "    plt.close() "
   ]
  },
  {
   "cell_type": "markdown",
   "metadata": {},
   "source": [
    "## Symbols per Frame vs Frame Difference"
   ]
  },
  {
   "cell_type": "code",
   "execution_count": null,
   "metadata": {
    "scrolled": true
   },
   "outputs": [],
   "source": [
    "# load frame differences\n",
    "vid_metadata = pd.read_json(\"all_vids.json\", orient=\"split\")\n",
    "\n",
    "for video_id, frames in data.items():\n",
    "    per_label = defaultdict(list)\n",
    "    for frame_count, frame in enumerate(frames, start=1):\n",
    "        for obj in frame:\n",
    "            if obj['label'] in CLASSES:\n",
    "                per_label[obj['label']].append((frame_count, obj['percentage']))\n",
    "                \n",
    "    diffs = vid_metadata.loc[vid_metadata['id'] == video_id]['frame_diffs'].tolist()[0]\n",
    "    \n",
    "    fig, ax = plt.subplots(figsize=(14, 10))\n",
    "    \n",
    "    # make sure colors don't repeat\n",
    "    colormap = plt.cm.tab20\n",
    "    # ax.set_color_cycle([colormap(i) for i in np.linspace(0, 1, len(CLASSES))])\n",
    "    x_vals = np.arange(len(frames))\n",
    "    \n",
    "    # plot frame diffs\n",
    "    ax.plot(range(len(diffs)), diffs)\n",
    "    \n",
    "    for label, frame in per_label.items():\n",
    "        x, y = zip(*frame)\n",
    "        ax.plot(x, y, 'o', label=label)\n",
    "\n",
    "    ax.set_xlabel(f\"Frame Number\")\n",
    "    ax.set_ylabel(f\"Percentage within frame\")\n",
    "    ax.set_title(f\"{video_id}\")\n",
    "    ax.legend(loc=1)\n",
    "    # ax.legend_.remove()\n",
    "\n",
    "    plt.ylim(-0.01, 1.01)\n",
    "\n",
    "    plt.show()\n",
    "    plt.close() "
   ]
  },
  {
   "cell_type": "code",
   "execution_count": null,
   "metadata": {},
   "outputs": [],
   "source": [
    "vid_metadata = pd.read_json(\"all_vids.json\", orient=\"split\")\n",
    "total = 0\n",
    "#calc duration\n",
    "for video_id in data:\n",
    "    duration = vid_metadata.loc[vid_metadata['id'] == video_id]['duration'].to_string().split(\" \")[-1]\n",
    "    total += float(duration.split(\":\")[2])+60*float(duration.split(\":\")[1])+3600*float(duration.split(\":\")[0])\n",
    "print(total, total/3600, total%3600/60, total%3600%60)\n",
    "print(len(data))"
   ]
  },
  {
   "cell_type": "markdown",
   "metadata": {},
   "source": [
    "## Corpus Map using Mean Percentage"
   ]
  },
  {
   "cell_type": "code",
   "execution_count": null,
   "metadata": {
    "scrolled": false
   },
   "outputs": [],
   "source": [
    "from sklearn.manifold import Isomap\n",
    "from sklearn.cluster import KMeans\n",
    "from sklearn.metrics import silhouette_score\n",
    "\n",
    "# plot Isomap\n",
    "def plot(data, title=\"Isomap\", clrs=None, max_val=0, words=None, labels=None):\n",
    "    colors = ['lightblue', 'lightgreen', 'orange', 'red', 'darkblue', 'darkgreen', 'violet', 'purple', 'hotpink', 'lemonchiffon', 'paleturquoise',  'greenyellow','pink', 'magenta', 'darksalmon']\n",
    "    if clrs is None:\n",
    "        clrs = ['blue']*len(data)\n",
    "    if labels is None:\n",
    "        labels = [\"\"]*len(data)\n",
    "    if words is None:\n",
    "        words = [250]*len(data)   \n",
    "    fig = plt.figure(figsize=(32, 24))\n",
    "    ax1 = fig.add_subplot(111)\n",
    "    matplotlib.rcParams.update({'font.size': 20})\n",
    "    plt.title(title)\n",
    "    plt.xlim(-0.15, 0.075)\n",
    "    plt.ylim(-0.15, 0.16)\n",
    "    ax1.tick_params(axis='both', which='both', bottom='off', top='off', left='off', right='off')\n",
    "    for counter in range(len(data)):\n",
    "        scatter = ax1.scatter(data[counter][0], data[counter][1], s=words[counter], marker='o', c=colors[clrs[counter]], \n",
    "                              vmin=0, vmax=max_val)\n",
    "        label_scale = words[counter]/(70*2500)\n",
    "        plt.annotate(labels[counter].split(\":\")[-1], xy=(data[counter][0]+label_scale, data[counter][1]+label_scale))\n",
    "    plt.tight_layout()\n",
    "    plt.show()\n",
    "\n",
    "# cluster bodies and faces\n",
    "cluster_num = 12\n",
    "\n",
    "matrix = percentages.as_matrix()\n",
    "km = KMeans(n_clusters=cluster_num, random_state=5)\n",
    "clusters = km.fit_predict(matrix)\n",
    "print(\"Silhouette score:\", silhouette_score(matrix, clusters))\n",
    "\n",
    "# plot corpus map using Isomap\n",
    "imap = Isomap()\n",
    "corpus_map = imap.fit_transform(matrix)\n",
    "plot(corpus_map, \"Corpus Map\",  max_val=cluster_num, clrs=clusters, labels = percentages.index)"
   ]
  },
  {
   "cell_type": "code",
   "execution_count": null,
   "metadata": {
    "scrolled": true
   },
   "outputs": [],
   "source": [
    "## absolute count over time\n",
    "\n",
    "dates = []\n",
    "\n",
    "for video_id, row in absolute_counts.iterrows():\n",
    "    dates.append(pd.to_datetime(str(vid_metadata.loc[vid_metadata['id'] == video_id]['date']).split(\" \")[-4].split(\"\\n\")[0], format=\"%Y-%m-%d\"))\n",
    "absolute_counts['date']=dates\n",
    "new_counts = absolute_counts.copy()\n",
    "new_counts.index = new_counts['date']\n",
    "del new_counts['date']\n",
    "\n",
    "# make sure colors don't repeat\n",
    "colors = [plt.cm.tab20(i) for i in np.linspace(0, 1, len(CLASSES))]\n",
    "\n",
    "new_counts = new_counts.groupby(pd.Grouper(freq='M')).sum()\n",
    "new_counts.replace(0, np.nan).plot(figsize=(14,10), color=colors, marker='o', linestyle=\"\")\n",
    "\n",
    "for column in new_counts.columns:\n",
    "    new_counts.plot(y=column)"
   ]
  },
  {
   "cell_type": "code",
   "execution_count": null,
   "metadata": {
    "scrolled": false
   },
   "outputs": [],
   "source": [
    "# percentage over time\n",
    "\n",
    "dates = []\n",
    "\n",
    "for video_id, row in percentages.iterrows():\n",
    "    dates.append(pd.to_datetime(str(vid_metadata.loc[vid_metadata['id'] == video_id]['date']).split(\" \")[-4].split(\"\\n\")[0], format=\"%Y-%m-%d\"))\n",
    "percentages['date']=dates\n",
    "new_percs = percentages.copy()\n",
    "new_percs.index = new_percs['date']\n",
    "del new_percs['date']\n",
    "\n",
    "# make sure colors don't repeat\n",
    "colors = [plt.cm.tab20(i) for i in np.linspace(0, 1, len(CLASSES))]\n",
    "\n",
    "# group by month\n",
    "new_percs = new_percs.groupby(pd.Grouper(freq='M')).mean()\n",
    "\n",
    "# bo = new_percs.sort_values(by='falanga', ascending=False)\n",
    "new_percs.columns = CLASSES_EN\n",
    "\n",
    "ax = new_percs.plot(figsize=(14,10), color=colors, marker='o', linestyle=\"\")\n",
    "#fig = ax.get_figure()\n",
    "#fig.savefig('symbols_over_time.png')\n",
    "\n",
    "new_percs.plot(figsize=(14,10),marker='o', linestyle=\"\",y=['flag_upa', 'flag_ukr', 'ukraine'])\n",
    "\n",
    "for column in new_percs.columns:\n",
    "    new_percs.replace(np.nan, 0).plot(figsize=(14,10),y=column)"
   ]
  },
  {
   "cell_type": "code",
   "execution_count": null,
   "metadata": {},
   "outputs": [],
   "source": [
    "import matplotlib.patches as patches\n",
    "\n",
    "# plot symbol locations\n",
    "boxes = pd.DataFrame(columns=[*CLASSES])\n",
    "\n",
    "for video_id, frames in data.items():\n",
    "    percs = defaultdict(list)\n",
    "    for frame in frames:\n",
    "        for obj in frame:\n",
    "            if obj['label'] in CLASSES:\n",
    "                percs[obj['label']].append(obj['bbox'])\n",
    "    new_row_data = {\n",
    "        label: perc for label, perc in percs.items()\n",
    "    }\n",
    "    \n",
    "    new_row = pd.Series(data=new_row_data, name=video_id)\n",
    "    \n",
    "    boxes = boxes.append(new_row)\n",
    "    \n",
    "boxes = boxes.fillna(value=0.0)\n",
    "\n",
    "for column in CLASSES:\n",
    "\n",
    "    fig1 = plt.figure(figsize=(16,9))\n",
    "    ax1 = fig1.add_subplot(111)\n",
    "    ax1.set_title(column)\n",
    "    plt.gca().invert_yaxis()\n",
    "    for count, box in enumerate(boxes[column]):\n",
    "        width = vid_metadata.loc[vid_metadata['id']==boxes.index[count]]['width']\n",
    "        height = vid_metadata.loc[vid_metadata['id']==boxes.index[count]]['height']\n",
    "        try:\n",
    "            for x1, y1, x2, y2 in box:\n",
    "                x1 /= float(width)\n",
    "                x2 /= float(width)\n",
    "                y1 /= float(height)\n",
    "                y2 /= float(height)\n",
    "                ax1.add_patch(patches.Rectangle((x1, y1), x2-x1, y2-y1, alpha=0.03))\n",
    "        except TypeError:\n",
    "            continue\n",
    "        plt.show()\n",
    "        plt.close()"
   ]
  },
  {
   "cell_type": "code",
   "execution_count": null,
   "metadata": {
    "scrolled": false
   },
   "outputs": [],
   "source": [
    "# symbol cooccurrences\n",
    "import matplotlib.colors as clrs\n",
    "cooc = np.zeros(shape=(len(CLASSES), len(CLASSES)))\n",
    "\n",
    "for video_id, frames in data.items():\n",
    "    counts = defaultdict(int)\n",
    "    for frame in frames:\n",
    "        objects = []\n",
    "        for obj in frame:\n",
    "            if obj['label'] in CLASSES:\n",
    "                objects.append(CLASSES.index(obj['label']))\n",
    "        for a in objects:\n",
    "            for b in objects:\n",
    "                if a is not b:\n",
    "                    cooc[a, b] += 1 \n",
    "                    \n",
    "fig, ax = plt.subplots(figsize=(18,10))\n",
    "ax.grid(False)\n",
    "plt.imshow(cooc, norm=clrs.LogNorm(vmin=0.1, vmax=cooc.max()),)\n",
    "plt.colorbar()\n",
    "plt.xticks(range(len(CLASSES)), CLASSES_EN, rotation=90)\n",
    "plt.yticks(range(len(CLASSES)), CLASSES_EN)\n",
    "plt.show()\n",
    "                    \n",
    "# adjust for total occurrences\n",
    "for row in range(len(cooc)):\n",
    "    for col in range(len(cooc[row])):\n",
    "        abs = absolute_counts.sum()[absolute_counts.sum().index[row]]\n",
    "        if abs > 0:\n",
    "            cooc[row][col] = cooc[row][col] / absolute_counts.sum()[absolute_counts.sum().index[row]]\n",
    "\n",
    "# plot it\n",
    "# mask = np.zeros_like(cooc)\n",
    "# mask[np.triu_indices_from(mask)] = True\n",
    "# cooc = np.ma.masked_array(cooc, mask=mask)\n",
    "fig, ax = plt.subplots(figsize=(18,10))\n",
    "ax.grid(False)\n",
    "plt.imshow(cooc, norm=clrs.LogNorm(vmin=0.1, vmax=cooc.max()),)\n",
    "plt.colorbar()\n",
    "plt.xticks(range(len(CLASSES)), CLASSES_EN, rotation=90)\n",
    "plt.yticks(range(len(CLASSES)), CLASSES_EN)\n",
    "plt.show()"
   ]
  }
 ],
 "metadata": {
  "kernelspec": {
   "display_name": "detectron2",
   "language": "python",
   "name": "detectron2"
  },
  "language_info": {
   "codemirror_mode": {
    "name": "ipython",
    "version": 3
   },
   "file_extension": ".py",
   "mimetype": "text/x-python",
   "name": "python",
   "nbconvert_exporter": "python",
   "pygments_lexer": "ipython3",
   "version": "3.7.6"
  }
 },
 "nbformat": 4,
 "nbformat_minor": 2
}
